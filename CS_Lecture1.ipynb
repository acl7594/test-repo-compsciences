{
  "cells": [
    {
      "cell_type": "code",
      "execution_count": null,
      "metadata": {
        "colab": {
          "base_uri": "https://localhost:8080/"
        },
        "id": "lPYOF7LgCo5v",
        "outputId": "122e9b58-ca8a-4b44-e388-2e3fdcdcd9ae"
      },
      "outputs": [
        {
          "name": "stdout",
          "output_type": "stream",
          "text": [
            "10\n",
            "london\n"
          ]
        }
      ],
      "source": [
        "print(10)\n",
        "print(\"london\")"
      ]
    },
    {
      "cell_type": "code",
      "execution_count": null,
      "metadata": {
        "colab": {
          "base_uri": "https://localhost:8080/"
        },
        "id": "VKjf1znuEogK",
        "outputId": "6e3af1e2-3e34-47b7-bdd2-f7be9a7f7fc0"
      },
      "outputs": [
        {
          "name": "stdout",
          "output_type": "stream",
          "text": [
            "297\n"
          ]
        }
      ],
      "source": [
        "print(3*99)"
      ]
    },
    {
      "cell_type": "code",
      "execution_count": null,
      "metadata": {
        "colab": {
          "base_uri": "https://localhost:8080/",
          "height": 53
        },
        "id": "P5Zua38SExYV",
        "outputId": "ad017a5b-4bf4-4c16-d0bf-7d65958d8c02"
      },
      "outputs": [
        {
          "name": "stdout",
          "output_type": "stream",
          "text": [
            "enter your name:anais \n"
          ]
        },
        {
          "data": {
            "application/vnd.google.colaboratory.intrinsic+json": {
              "type": "string"
            },
            "text/plain": [
              "'anais '"
            ]
          },
          "execution_count": 4,
          "metadata": {},
          "output_type": "execute_result"
        }
      ],
      "source": [
        "input(\"enter your name:\")"
      ]
    },
    {
      "cell_type": "code",
      "execution_count": null,
      "metadata": {
        "colab": {
          "base_uri": "https://localhost:8080/"
        },
        "id": "AWuRiR8eFIun",
        "outputId": "1d47126d-34e3-4f79-d6ad-ba31d26840c5"
      },
      "outputs": [
        {
          "name": "stdout",
          "output_type": "stream",
          "text": [
            "10.1\n"
          ]
        }
      ],
      "source": [
        "# print number 10.10\n",
        "print(10.10)"
      ]
    },
    {
      "cell_type": "code",
      "execution_count": null,
      "metadata": {
        "colab": {
          "base_uri": "https://localhost:8080/"
        },
        "id": "cJhFuphYGzFJ",
        "outputId": "dcb778a2-a01a-4d5d-c6c3-8c12a98128c9"
      },
      "outputs": [
        {
          "name": "stdout",
          "output_type": "stream",
          "text": [
            "where are you from? london\n",
            "what's your name? anais \n",
            "anais  london\n"
          ]
        }
      ],
      "source": [
        "# ask the user what is their city\n",
        "# ask the user their first name\n",
        "# print user name and city\n",
        "# use a variable\n",
        "city = input(\"where are you from? \")\n",
        "name = input(\"what's your name? \")\n",
        "print(name,city)\n"
      ]
    },
    {
      "cell_type": "code",
      "execution_count": null,
      "metadata": {
        "colab": {
          "base_uri": "https://localhost:8080/"
        },
        "id": "k-fo12DvGG4f",
        "outputId": "826244d2-2a88-4710-cf66-9b2e8ccbd18f"
      },
      "outputs": [
        {
          "name": "stdout",
          "output_type": "stream",
          "text": [
            "10\n",
            "Anaïs\n"
          ]
        }
      ],
      "source": [
        "X = 10\n",
        "name = \"Anaïs\"\n",
        "print(X)\n",
        "print(name)"
      ]
    },
    {
      "cell_type": "code",
      "execution_count": null,
      "metadata": {
        "colab": {
          "base_uri": "https://localhost:8080/"
        },
        "id": "MoN91B1HHdtG",
        "outputId": "548e3d8c-348c-4729-8cc1-6ab1bd2dd983"
      },
      "outputs": [
        {
          "name": "stdout",
          "output_type": "stream",
          "text": [
            "enter a number: 20.25\n",
            "enter a second number: 20\n",
            "result is 40.25\n"
          ]
        }
      ],
      "source": [
        "x = float(input(\"enter a number: \"))\n",
        "y = int(input(\"enter a second number: \"))\n",
        "print(\"result is\",x+y)"
      ]
    },
    {
      "cell_type": "markdown",
      "metadata": {
        "id": "hZfao0veKP-7"
      },
      "source": []
    },
    {
      "cell_type": "code",
      "execution_count": null,
      "metadata": {
        "colab": {
          "base_uri": "https://localhost:8080/"
        },
        "id": "H-Q156ppKCiR",
        "outputId": "b14e5060-9005-406c-fc81-1481fadfca7a"
      },
      "outputs": [
        {
          "name": "stdout",
          "output_type": "stream",
          "text": [
            "enter a whole number: 2\n",
            "enter a second whole number: 3\n",
            "enter a third whole number: 4\n",
            "the product is 24\n"
          ]
        }
      ],
      "source": [
        "x = int(input(\"enter a whole number: \"))\n",
        "y = int(input(\"enter a second whole number: \"))\n",
        "z = int(input(\"enter a third whole number: \"))\n",
        "print(\"the product is\",x*y*z)"
      ]
    },
    {
      "cell_type": "code",
      "execution_count": null,
      "metadata": {
        "colab": {
          "base_uri": "https://localhost:8080/"
        },
        "id": "-9B9YHx4Kvc0",
        "outputId": "a2e18814-a3f5-40d8-fe3b-07fb9418016c"
      },
      "outputs": [
        {
          "name": "stdout",
          "output_type": "stream",
          "text": [
            "enter a whole number: 15\n",
            "enter a second whole number: 4\n",
            "3.75\n"
          ]
        }
      ],
      "source": [
        "x = float(input(\"enter a whole number: \"))\n",
        "y = float(input(\"enter a second whole number: \"))\n",
        "print(x/y)"
      ]
    },
    {
      "cell_type": "code",
      "execution_count": null,
      "metadata": {
        "colab": {
          "base_uri": "https://localhost:8080/"
        },
        "id": "oo8C0CciLxDM",
        "outputId": "6e3c00ba-a91e-47e5-df18-bf97312b0bc3"
      },
      "outputs": [
        {
          "name": "stdout",
          "output_type": "stream",
          "text": [
            "enter a whole number: 10\n",
            "enter a second whole number: 0\n",
            "i cannot divide\n"
          ]
        }
      ],
      "source": [
        "x = float(input(\"enter a whole number: \"))\n",
        "y = float(input(\"enter a second whole number: \"))\n",
        "if y==0:\n",
        "  print(\"i cannot divide\")\n",
        "else:\n",
        "  print(x/y)"
      ]
    },
    {
      "cell_type": "code",
      "execution_count": null,
      "metadata": {
        "colab": {
          "base_uri": "https://localhost:8080/"
        },
        "id": "OwRYgW1LNRgk",
        "outputId": "65dcd7b7-8bf3-4f7d-8414-ae4f6804614e"
      },
      "outputs": [
        {
          "name": "stdout",
          "output_type": "stream",
          "text": [
            "enter a city: Paris\n",
            "Bonjour\n"
          ]
        }
      ],
      "source": [
        "city = input(\"enter a city: \")\n",
        "if city==\"Paris\":\n",
        "  print(\"Bonjour\")\n",
        "else:\n",
        "  print(\"hi\")\n"
      ]
    },
    {
      "cell_type": "markdown",
      "metadata": {
        "id": "PNvljRxjR4lO"
      },
      "source": [
        "exercise 1\n",
        "create a program to ask the user their name and age\n",
        "if the user is over 18, then print you are an adult, if the user is under 18 print you are a kid\n"
      ]
    },
    {
      "cell_type": "code",
      "execution_count": null,
      "metadata": {
        "colab": {
          "base_uri": "https://localhost:8080/"
        },
        "id": "IfpW_n3sSITc",
        "outputId": "9c4ff317-8fb5-4b67-f366-b4a95b9a4876"
      },
      "outputs": [
        {
          "name": "stdout",
          "output_type": "stream",
          "text": [
            "what's your name? anais\n",
            "what's your age? 18\n",
            "you are an adult!\n"
          ]
        }
      ],
      "source": [
        "input(\"what's your name? \")\n",
        "x = input(\"what's your age? \")\n",
        "if x>=\"18\":\n",
        "  print(\"you are an adult!\")\n",
        "else:\n",
        "  print(\"you are a kid!\")"
      ]
    },
    {
      "cell_type": "code",
      "execution_count": null,
      "metadata": {
        "id": "-5qj0xi_UNdI"
      },
      "outputs": [],
      "source": []
    },
    {
      "cell_type": "markdown",
      "metadata": {
        "id": "7ZtrjZ0nT89r"
      },
      "source": [
        "> greater\n",
        "< less\n",
        ">= greater or equal\n",
        "<= less or equal\n",
        "<> not equal"
      ]
    },
    {
      "cell_type": "markdown",
      "metadata": {
        "id": "1BI7uFyHUUB-"
      },
      "source": [
        "create a program, ask the user to enter two numbers.\n",
        "print the maximum number\n"
      ]
    },
    {
      "cell_type": "code",
      "execution_count": null,
      "metadata": {
        "colab": {
          "base_uri": "https://localhost:8080/"
        },
        "id": "AefAOtV0UbmL",
        "outputId": "936cc48b-a45d-4c45-8768-5bd3d5ca7413"
      },
      "outputs": [
        {
          "name": "stdout",
          "output_type": "stream",
          "text": [
            "enter a number: 2\n",
            "enter a second number10\n",
            "10\n"
          ]
        }
      ],
      "source": [
        "x = int(input(\"enter a number: \"))\n",
        "y = int(input(\"enter a second number: \"))\n",
        "if x>y:\n",
        "  print(x)\n",
        "else:\n",
        "  print(y)"
      ]
    },
    {
      "cell_type": "code",
      "execution_count": null,
      "metadata": {
        "colab": {
          "base_uri": "https://localhost:8080/"
        },
        "id": "W8HG-ovTU4bj",
        "outputId": "708ccff2-748e-40e5-aeec-8f63189f77a4"
      },
      "outputs": [
        {
          "name": "stdout",
          "output_type": "stream",
          "text": [
            "enter your score: 56\n",
            "passed\n"
          ]
        }
      ],
      "source": [
        "x = int(input(\"enter your score: \"))\n",
        "if x>0 and x<50:\n",
        "  print(\"you failed\")\n",
        "elif x>=50 and x<70:\n",
        "  print(\"passed\")\n",
        "elif x>70 and x<+100:\n",
        "  print(\"distinction\")\n",
        "else:\n",
        "  print(\"there's a problem\")"
      ]
    },
    {
      "cell_type": "code",
      "execution_count": null,
      "metadata": {
        "colab": {
          "background_save": true,
          "base_uri": "https://localhost:8080/",
          "height": 108
        },
        "id": "XhslxlMXqlxu",
        "outputId": "c581772f-e0dd-4fee-b84c-919271440282"
      },
      "outputs": [
        {
          "ename": "SyntaxError",
          "evalue": "invalid syntax (<ipython-input-1-579a89f3b3e1>, line 10)",
          "output_type": "error",
          "traceback": [
            "\u001b[0;36m  File \u001b[0;32m\"<ipython-input-1-579a89f3b3e1>\"\u001b[0;36m, line \u001b[0;32m10\u001b[0m\n\u001b[0;31m    elif operation==\"/\" and y<>0:\u001b[0m\n\u001b[0m                             ^\u001b[0m\n\u001b[0;31mSyntaxError\u001b[0m\u001b[0;31m:\u001b[0m invalid syntax\n"
          ]
        }
      ],
      "source": [
        "x = int(input(\"enter a number: \"))\n",
        "y = int(input(\"enter a second number: \"))\n",
        "operation = input(\"enter an operation(+,-,*,/):\")\n",
        "if operation==\"+\":\n",
        "  print(x+y)\n",
        "elif operation==\"-\":\n",
        "  print(x-y)\n",
        "elif operation==\"*\":\n",
        "  print(x*y)\n",
        "elif operation==\"/\" and y<>0:\n",
        "  print(x/y)\n",
        "else print(\"i do not do this operation\")"
      ]
    }
  ],
  "metadata": {
    "colab": {
      "provenance": []
    },
    "kernelspec": {
      "display_name": "Python 3",
      "name": "python3"
    },
    "language_info": {
      "name": "python"
    }
  },
  "nbformat": 4,
  "nbformat_minor": 0
}